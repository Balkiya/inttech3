{
 "cells": [
  {
   "cell_type": "code",
   "id": "initial_id",
   "metadata": {
    "collapsed": true,
    "ExecuteTime": {
     "end_time": "2024-10-14T19:01:59.448357Z",
     "start_time": "2024-10-14T19:01:59.425572Z"
    }
   },
   "source": [
    "from pymongo import MongoClient\n",
    "\n",
    "client = MongoClient('localhost', 27017)\n",
    "\n",
    "db = client.my_database\n",
    "print(\"Қосылу сәтті орындалды!\")\n"
   ],
   "outputs": [
    {
     "name": "stdout",
     "output_type": "stream",
     "text": [
      "Қосылу сәтті орындалды!\n"
     ]
    }
   ],
   "execution_count": 21
  },
  {
   "metadata": {
    "ExecuteTime": {
     "end_time": "2024-10-14T19:01:37.544876Z",
     "start_time": "2024-10-14T19:01:37.536630Z"
    }
   },
   "cell_type": "code",
   "source": [
    "collection = db.my_collection\n",
    "print(\"Коллекция құрылды.\")\n"
   ],
   "id": "f4e293ecdc1d1fa2",
   "outputs": [
    {
     "name": "stdout",
     "output_type": "stream",
     "text": [
      "Коллекция құрылды.\n"
     ]
    }
   ],
   "execution_count": 19
  },
  {
   "metadata": {
    "ExecuteTime": {
     "end_time": "2024-10-14T19:01:41.109484Z",
     "start_time": "2024-10-14T19:01:40.977005Z"
    }
   },
   "cell_type": "code",
   "source": [
    "new_document = {\n",
    "    \"name\": \"Ali\",\n",
    "    \"age\": 25,\n",
    "    \"city\": \"Almaty\"\n",
    "}\n",
    "collection.insert_one(new_document)\n",
    "print(\"Құжат енгізілді.\")\n"
   ],
   "id": "49b6a205dbc4c912",
   "outputs": [
    {
     "name": "stdout",
     "output_type": "stream",
     "text": [
      "Құжат енгізілді.\n"
     ]
    }
   ],
   "execution_count": 20
  },
  {
   "metadata": {
    "ExecuteTime": {
     "end_time": "2024-10-11T19:02:20.950699Z",
     "start_time": "2024-10-11T19:02:20.831060Z"
    }
   },
   "cell_type": "code",
   "source": [
    "documents = [\n",
    "    {\"name\": \"Aigerim\", \"age\": 28, \"city\": \"Nur-Sultan\"},\n",
    "    {\"name\": \"Dina\", \"age\": 22, \"city\": \"Shymkent\"}\n",
    "]\n",
    "collection.insert_many(documents)\n",
    "print(\"Көптеген құжаттар енгізілді.\")\n"
   ],
   "id": "6a60dc1ccdba726e",
   "outputs": [
    {
     "name": "stdout",
     "output_type": "stream",
     "text": [
      "Көптеген құжаттар енгізілді.\n"
     ]
    }
   ],
   "execution_count": 18
  },
  {
   "metadata": {
    "ExecuteTime": {
     "end_time": "2024-10-11T19:04:10.602249Z",
     "start_time": "2024-10-11T19:04:10.552167Z"
    }
   },
   "cell_type": "code",
   "source": [
    "for document in collection.find():\n",
    "    print(document)\n"
   ],
   "id": "8e64e9342fa4b277",
   "outputs": [
    {
     "name": "stdout",
     "output_type": "stream",
     "text": [
      "{'_id': ObjectId('67097589b67228f1f89352d7'), 'name': 'Ali', 'age': 25, 'city': 'Almaty'}\n",
      "{'_id': ObjectId('6709763cb67228f1f89352d8'), 'name': 'Aigerim', 'age': 28, 'city': 'Nur-Sultan'}\n",
      "{'_id': ObjectId('6709763cb67228f1f89352d9'), 'name': 'Dina', 'age': 22, 'city': 'Shymkent'}\n"
     ]
    }
   ],
   "execution_count": 19
  },
  {
   "metadata": {
    "ExecuteTime": {
     "end_time": "2024-10-11T19:05:13.051155Z",
     "start_time": "2024-10-11T19:05:12.943900Z"
    }
   },
   "cell_type": "code",
   "source": [
    "person = collection.find_one({\"name\": \"Ali\"})\n",
    "print('табылған құжат', person)\n"
   ],
   "id": "a0c8cb9d84ddc9f1",
   "outputs": [
    {
     "name": "stdout",
     "output_type": "stream",
     "text": [
      "табылған құжат {'_id': ObjectId('67097589b67228f1f89352d7'), 'name': 'Ali', 'age': 25, 'city': 'Almaty'}\n"
     ]
    }
   ],
   "execution_count": 20
  },
  {
   "metadata": {
    "ExecuteTime": {
     "end_time": "2024-10-11T19:11:01.447333Z",
     "start_time": "2024-10-11T19:11:01.351705Z"
    }
   },
   "cell_type": "code",
   "source": [
    "query = {\"name\": \"Ali\"}\n",
    "new_values = {\"$set\": {\"age\": 26}}\n",
    "collection.update_one(query, new_values)\n",
    "print(\"Документ обновлен.\")\n"
   ],
   "id": "2c878a078ebe7b85",
   "outputs": [
    {
     "name": "stdout",
     "output_type": "stream",
     "text": [
      "Документ обновлен.\n"
     ]
    }
   ],
   "execution_count": 21
  },
  {
   "metadata": {
    "ExecuteTime": {
     "end_time": "2024-10-11T19:24:35.673429Z",
     "start_time": "2024-10-11T19:24:35.582271Z"
    }
   },
   "cell_type": "code",
   "source": [
    "query = {}\n",
    "new_values = {\"$set\": {\"city\": \"Aktau\"}}\n",
    "collection.update_many(query, new_values)\n",
    "print(\"Көптеген құжаттар жаңартылды.\")"
   ],
   "id": "fc24567e041d6bdd",
   "outputs": [
    {
     "name": "stdout",
     "output_type": "stream",
     "text": [
      "Көптеген құжаттар жаңартылды.\n"
     ]
    }
   ],
   "execution_count": 24
  },
  {
   "metadata": {
    "ExecuteTime": {
     "end_time": "2024-10-11T19:25:58.943175Z",
     "start_time": "2024-10-11T19:25:58.834138Z"
    }
   },
   "cell_type": "code",
   "source": [
    "query = {\"name\": \"Ali\"}\n",
    "collection.delete_one(query)\n",
    "print(\"Құжат жойылды.\")\n"
   ],
   "id": "199f1a3098a222e7",
   "outputs": [
    {
     "name": "stdout",
     "output_type": "stream",
     "text": [
      "Құжат жойылды.\n"
     ]
    }
   ],
   "execution_count": 25
  },
  {
   "metadata": {
    "ExecuteTime": {
     "end_time": "2024-10-11T19:26:30.390867Z",
     "start_time": "2024-10-11T19:26:30.378918Z"
    }
   },
   "cell_type": "code",
   "source": [
    "query = {\"city\": \"Aktau\"}\n",
    "collection.delete_many(query)\n",
    "print(\"Көптеген құжаттар жойылды.\")"
   ],
   "id": "5e6a5c78156937f1",
   "outputs": [
    {
     "name": "stdout",
     "output_type": "stream",
     "text": [
      "Көптеген құжаттар жойылды.\n"
     ]
    }
   ],
   "execution_count": 26
  }
 ],
 "metadata": {
  "kernelspec": {
   "display_name": "Python 3",
   "language": "python",
   "name": "python3"
  },
  "language_info": {
   "codemirror_mode": {
    "name": "ipython",
    "version": 2
   },
   "file_extension": ".py",
   "mimetype": "text/x-python",
   "name": "python",
   "nbconvert_exporter": "python",
   "pygments_lexer": "ipython2",
   "version": "2.7.6"
  }
 },
 "nbformat": 4,
 "nbformat_minor": 5
}
